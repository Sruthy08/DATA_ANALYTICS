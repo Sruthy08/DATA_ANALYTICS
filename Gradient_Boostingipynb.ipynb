{
  "nbformat": 4,
  "nbformat_minor": 0,
  "metadata": {
    "colab": {
      "provenance": [],
      "authorship_tag": "ABX9TyNwUoCm8mPbT+q8Q1V397sI",
      "include_colab_link": true
    },
    "kernelspec": {
      "name": "python3",
      "display_name": "Python 3"
    },
    "language_info": {
      "name": "python"
    }
  },
  "cells": [
    {
      "cell_type": "markdown",
      "metadata": {
        "id": "view-in-github",
        "colab_type": "text"
      },
      "source": [
        "<a href=\"https://colab.research.google.com/github/Sruthy08/DATA_ANALYTICS/blob/main/Gradient_Boostingipynb.ipynb\" target=\"_parent\"><img src=\"https://colab.research.google.com/assets/colab-badge.svg\" alt=\"Open In Colab\"/></a>"
      ]
    },
    {
      "cell_type": "markdown",
      "source": [
        "**Grediant Boosting Algorithm.**"
      ],
      "metadata": {
        "id": "9C0d8ASypYS6"
      }
    },
    {
      "cell_type": "code",
      "execution_count": 17,
      "metadata": {
        "id": "uhbW1Rnjmt8C"
      },
      "outputs": [],
      "source": [
        "import numpy as np\n",
        "import matplotlib.pyplot as plt"
      ]
    },
    {
      "cell_type": "code",
      "source": [
        "lr=0.5 #set learning rate"
      ],
      "metadata": {
        "id": "EMSbSUumm4Pd"
      },
      "execution_count": 18,
      "outputs": []
    },
    {
      "cell_type": "code",
      "source": [
        "# step:1 Training data\n",
        "x = np.array([1,2,3,4])\n",
        "y = np.array([1,2,3,4])"
      ],
      "metadata": {
        "id": "2sC2R6Nkm311"
      },
      "execution_count": 19,
      "outputs": []
    },
    {
      "cell_type": "code",
      "source": [
        "#step 2 : Initial model (F0) = mean of y\n",
        "F0 = np.mean(y)\n",
        "pred  = np.full_like(y, F0, dtype=float)\n",
        "print(f\"Intital model (F0): {F0}\")"
      ],
      "metadata": {
        "colab": {
          "base_uri": "https://localhost:8080/"
        },
        "id": "K4Rj5sSsnV0Y",
        "outputId": "a320030a-4f91-4baa-f0ca-eda2da54ea12"
      },
      "execution_count": 20,
      "outputs": [
        {
          "output_type": "stream",
          "name": "stdout",
          "text": [
            "Intital model (F0): 2.5\n"
          ]
        }
      ]
    },
    {
      "cell_type": "code",
      "source": [
        "# step 3 : First iteration tree 1\n",
        "residual1 = y - F0\n",
        "print(\"Residual after iteration 0 :\",residual1)"
      ],
      "metadata": {
        "colab": {
          "base_uri": "https://localhost:8080/"
        },
        "id": "YUnWC0Apn-ZE",
        "outputId": "af918b29-ddcb-4da5-d4c9-abe85aaeec35"
      },
      "execution_count": 21,
      "outputs": [
        {
          "output_type": "stream",
          "name": "stdout",
          "text": [
            "Residual after iteration 0 : [-1.5 -0.5  0.5  1.5]\n"
          ]
        }
      ]
    },
    {
      "cell_type": "code",
      "source": [
        "# Fit a decision stump manually : rule is if x<=2.5  - 1,else +1\n",
        "def tree1(x):\n",
        "  return np.where(x <= 2.5, -1, 1)\n",
        "\n",
        "h1=tree1(x)\n",
        "F1 = F0+lr*h1\n",
        "print(\"Predections after iteration 1: \",F1)"
      ],
      "metadata": {
        "colab": {
          "base_uri": "https://localhost:8080/"
        },
        "id": "YD76QNNhoCIF",
        "outputId": "92cab939-e85a-4399-e2be-cd381d21d3fd"
      },
      "execution_count": 22,
      "outputs": [
        {
          "output_type": "stream",
          "name": "stdout",
          "text": [
            "Predections after iteration 1:  [2. 2. 3. 3.]\n"
          ]
        }
      ]
    },
    {
      "cell_type": "code",
      "source": [
        "residual2 = y - F1\n",
        "print(\"Residual after iteration 1 :\",residual2)"
      ],
      "metadata": {
        "colab": {
          "base_uri": "https://localhost:8080/"
        },
        "id": "Oi5iA1qjoX_f",
        "outputId": "9dc2f00e-ea4e-4903-d904-9f06d61fd08c"
      },
      "execution_count": 23,
      "outputs": [
        {
          "output_type": "stream",
          "name": "stdout",
          "text": [
            "Residual after iteration 1 : [-1.  0.  0.  1.]\n"
          ]
        }
      ]
    },
    {
      "cell_type": "code",
      "source": [
        "def tree2(x):\n",
        "  return np.where(x <= 1.5, -1, np.where(x >=3.5,+1,0))\n",
        "\n",
        "h2=tree2(x)\n",
        "F2 = F1+lr*h2\n",
        "print(\"Predections after iteration 2: \",F2)"
      ],
      "metadata": {
        "colab": {
          "base_uri": "https://localhost:8080/"
        },
        "id": "PdoqpA9xoh05",
        "outputId": "60e80d70-3986-4c78-fca5-5c6adbca9840"
      },
      "execution_count": 24,
      "outputs": [
        {
          "output_type": "stream",
          "name": "stdout",
          "text": [
            "Predections after iteration 2:  [1.5 2.  3.  3.5]\n"
          ]
        }
      ]
    },
    {
      "cell_type": "code",
      "source": [
        "#final prediction comparison\n",
        "print(\"\\nTrue y values:  \", y)\n",
        "print(\"final predictions: \", F2)\n",
        "print(\"Absolute error:   \", np.abs(F2 - y))"
      ],
      "metadata": {
        "colab": {
          "base_uri": "https://localhost:8080/"
        },
        "id": "BZEShB2Hotrd",
        "outputId": "6f75cec3-e16b-4b77-bdd0-26d6075520b1"
      },
      "execution_count": 25,
      "outputs": [
        {
          "output_type": "stream",
          "name": "stdout",
          "text": [
            "\n",
            "True y values:   [1 2 3 4]\n",
            "final predictions:  [1.5 2.  3.  3.5]\n",
            "Absolute error:    [0.5 0.  0.  0.5]\n"
          ]
        }
      ]
    }
  ]
}